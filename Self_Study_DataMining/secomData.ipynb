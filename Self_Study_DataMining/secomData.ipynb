{
 "cells": [
  {
   "cell_type": "code",
   "execution_count": 3,
   "id": "e6c1674a",
   "metadata": {},
   "outputs": [],
   "source": [
    "# 분석 필요 패키지 임포트\n",
    "import numpy as np      # NumPy: 배열분석\n",
    "import pandas as pd     # Pandas: 데이터 수집 및 수정\n",
    "import datetime         # 시간처리(내장 파이썬)\n",
    "import matplotlib.pyplot as plt   # 시각화 그래프\n",
    "import seaborn as sns # 시각화 그래프 최신버전"
   ]
  },
  {
   "cell_type": "code",
   "execution_count": 4,
   "id": "1a31d75c",
   "metadata": {},
   "outputs": [
    {
     "name": "stdout",
     "output_type": "stream",
     "text": [
      "<class 'pandas.core.frame.DataFrame'>\n",
      "RangeIndex: 1567 entries, 0 to 1566\n",
      "Columns: 590 entries, 0 to 589\n",
      "dtypes: float64(590)\n",
      "memory usage: 7.1 MB\n"
     ]
    }
   ],
   "source": [
    "# 실험 결과값 데이터를 불러와 데이터 프레임 형성\n",
    "pf = pd.read_csv(r\"C:\\ITStudy\\00_git\\Self_Study_DataMining\\secom\\secom.data\", sep=' ', header=None)\n",
    "\n",
    "main_data = pd.DataFrame(pf)\n",
    "\n",
    "# 데이터 확인\n",
    "main_data.info()\n",
    "main_data.describe(include='all')\n",
    "\n",
    "# 데이터의 처음과 끝 확인\n",
    "main_data.head()\n",
    "main_data.tail()\n",
    "\n",
    "# main 데이터의 결측치 처리\n",
    "main_data.replace(np.nan, 0, inplace=True)"
   ]
  },
  {
   "cell_type": "code",
   "execution_count": 5,
   "id": "b7e9d44c",
   "metadata": {},
   "outputs": [
    {
     "name": "stdout",
     "output_type": "stream",
     "text": [
      "<class 'pandas.core.frame.DataFrame'>\n",
      "RangeIndex: 1567 entries, 0 to 1566\n",
      "Data columns (total 2 columns):\n",
      " #   Column      Non-Null Count  Dtype \n",
      "---  ------      --------------  ----- \n",
      " 0   is_success  1567 non-null   int64 \n",
      " 1   Date        1567 non-null   object\n",
      "dtypes: int64(1), object(1)\n",
      "memory usage: 24.6+ KB\n"
     ]
    },
    {
     "data": {
      "application/vnd.microsoft.datawrangler.viewer.v0+json": {
       "columns": [
        {
         "name": "index",
         "rawType": "int64",
         "type": "integer"
        },
        {
         "name": "is_success",
         "rawType": "object",
         "type": "string"
        },
        {
         "name": "Date",
         "rawType": "datetime64[ns]",
         "type": "datetime"
        }
       ],
       "ref": "2dbe2ccd-2da1-4378-a775-c4dfdae1f149",
       "rows": [
        [
         "0",
         "X",
         "2008-07-19 11:55:00"
        ],
        [
         "1",
         "X",
         "2008-07-19 12:32:00"
        ],
        [
         "2",
         "O",
         "2008-07-19 13:17:00"
        ],
        [
         "3",
         "X",
         "2008-07-19 14:43:00"
        ],
        [
         "4",
         "X",
         "2008-07-19 15:22:00"
        ],
        [
         "5",
         "X",
         "2008-07-19 17:53:00"
        ],
        [
         "6",
         "X",
         "2008-07-19 19:44:00"
        ],
        [
         "7",
         "X",
         "2008-07-19 19:45:00"
        ],
        [
         "8",
         "X",
         "2008-07-19 20:24:00"
        ],
        [
         "9",
         "X",
         "2008-07-19 21:35:00"
        ],
        [
         "10",
         "O",
         "2008-07-19 21:57:00"
        ],
        [
         "11",
         "O",
         "2008-07-19 22:52:00"
        ],
        [
         "12",
         "X",
         "2008-07-20 03:35:00"
        ],
        [
         "13",
         "X",
         "2008-07-21 08:21:00"
        ],
        [
         "14",
         "O",
         "2008-07-21 11:53:00"
        ],
        [
         "15",
         "X",
         "2008-07-22 00:03:00"
        ],
        [
         "16",
         "X",
         "2008-07-22 02:59:00"
        ],
        [
         "17",
         "X",
         "2008-07-22 08:41:00"
        ],
        [
         "18",
         "X",
         "2008-07-22 11:47:00"
        ],
        [
         "19",
         "X",
         "2008-07-22 14:00:00"
        ],
        [
         "20",
         "X",
         "2008-07-22 15:30:00"
        ],
        [
         "21",
         "X",
         "2008-07-23 05:15:00"
        ],
        [
         "22",
         "X",
         "2008-07-23 19:22:00"
        ],
        [
         "23",
         "O",
         "2008-07-25 15:23:00"
        ],
        [
         "24",
         "X",
         "2008-07-27 04:18:00"
        ],
        [
         "25",
         "X",
         "2008-07-27 09:37:00"
        ],
        [
         "26",
         "X",
         "2008-07-27 11:10:00"
        ],
        [
         "27",
         "X",
         "2008-07-27 15:46:00"
        ],
        [
         "28",
         "X",
         "2008-07-27 16:06:00"
        ],
        [
         "29",
         "X",
         "2008-07-27 16:49:00"
        ],
        [
         "30",
         "X",
         "2008-07-27 20:24:00"
        ],
        [
         "31",
         "X",
         "2008-07-27 22:28:00"
        ],
        [
         "32",
         "X",
         "2008-07-27 22:28:00"
        ],
        [
         "33",
         "X",
         "2008-07-27 23:14:00"
        ],
        [
         "34",
         "X",
         "2008-07-28 03:31:00"
        ],
        [
         "35",
         "X",
         "2008-07-28 03:48:00"
        ],
        [
         "36",
         "X",
         "2008-07-28 04:37:00"
        ],
        [
         "37",
         "X",
         "2008-07-28 05:36:00"
        ],
        [
         "38",
         "O",
         "2008-07-28 06:45:00"
        ],
        [
         "39",
         "X",
         "2008-07-28 08:36:00"
        ],
        [
         "40",
         "O",
         "2008-07-28 15:11:00"
        ],
        [
         "41",
         "X",
         "2008-07-28 23:57:00"
        ],
        [
         "42",
         "X",
         "2008-07-29 04:08:00"
        ],
        [
         "43",
         "X",
         "2008-07-29 05:16:00"
        ],
        [
         "44",
         "X",
         "2008-07-29 06:19:00"
        ],
        [
         "45",
         "O",
         "2008-07-29 08:23:00"
        ],
        [
         "46",
         "X",
         "2008-07-29 11:47:00"
        ],
        [
         "47",
         "X",
         "2008-07-29 15:41:00"
        ],
        [
         "48",
         "O",
         "2008-07-29 15:49:00"
        ],
        [
         "49",
         "O",
         "2008-07-29 17:05:00"
        ]
       ],
       "shape": {
        "columns": 2,
        "rows": 1567
       }
      },
      "text/html": [
       "<div>\n",
       "<style scoped>\n",
       "    .dataframe tbody tr th:only-of-type {\n",
       "        vertical-align: middle;\n",
       "    }\n",
       "\n",
       "    .dataframe tbody tr th {\n",
       "        vertical-align: top;\n",
       "    }\n",
       "\n",
       "    .dataframe thead th {\n",
       "        text-align: right;\n",
       "    }\n",
       "</style>\n",
       "<table border=\"1\" class=\"dataframe\">\n",
       "  <thead>\n",
       "    <tr style=\"text-align: right;\">\n",
       "      <th></th>\n",
       "      <th>is_success</th>\n",
       "      <th>Date</th>\n",
       "    </tr>\n",
       "  </thead>\n",
       "  <tbody>\n",
       "    <tr>\n",
       "      <th>0</th>\n",
       "      <td>X</td>\n",
       "      <td>2008-07-19 11:55:00</td>\n",
       "    </tr>\n",
       "    <tr>\n",
       "      <th>1</th>\n",
       "      <td>X</td>\n",
       "      <td>2008-07-19 12:32:00</td>\n",
       "    </tr>\n",
       "    <tr>\n",
       "      <th>2</th>\n",
       "      <td>O</td>\n",
       "      <td>2008-07-19 13:17:00</td>\n",
       "    </tr>\n",
       "    <tr>\n",
       "      <th>3</th>\n",
       "      <td>X</td>\n",
       "      <td>2008-07-19 14:43:00</td>\n",
       "    </tr>\n",
       "    <tr>\n",
       "      <th>4</th>\n",
       "      <td>X</td>\n",
       "      <td>2008-07-19 15:22:00</td>\n",
       "    </tr>\n",
       "    <tr>\n",
       "      <th>...</th>\n",
       "      <td>...</td>\n",
       "      <td>...</td>\n",
       "    </tr>\n",
       "    <tr>\n",
       "      <th>1562</th>\n",
       "      <td>X</td>\n",
       "      <td>2008-10-16 15:13:00</td>\n",
       "    </tr>\n",
       "    <tr>\n",
       "      <th>1563</th>\n",
       "      <td>X</td>\n",
       "      <td>2008-10-16 20:49:00</td>\n",
       "    </tr>\n",
       "    <tr>\n",
       "      <th>1564</th>\n",
       "      <td>X</td>\n",
       "      <td>2008-10-17 05:26:00</td>\n",
       "    </tr>\n",
       "    <tr>\n",
       "      <th>1565</th>\n",
       "      <td>X</td>\n",
       "      <td>2008-10-17 06:01:00</td>\n",
       "    </tr>\n",
       "    <tr>\n",
       "      <th>1566</th>\n",
       "      <td>X</td>\n",
       "      <td>2008-10-17 06:07:00</td>\n",
       "    </tr>\n",
       "  </tbody>\n",
       "</table>\n",
       "<p>1567 rows × 2 columns</p>\n",
       "</div>"
      ],
      "text/plain": [
       "     is_success                Date\n",
       "0             X 2008-07-19 11:55:00\n",
       "1             X 2008-07-19 12:32:00\n",
       "2             O 2008-07-19 13:17:00\n",
       "3             X 2008-07-19 14:43:00\n",
       "4             X 2008-07-19 15:22:00\n",
       "...         ...                 ...\n",
       "1562          X 2008-10-16 15:13:00\n",
       "1563          X 2008-10-16 20:49:00\n",
       "1564          X 2008-10-17 05:26:00\n",
       "1565          X 2008-10-17 06:01:00\n",
       "1566          X 2008-10-17 06:07:00\n",
       "\n",
       "[1567 rows x 2 columns]"
      ]
     },
     "execution_count": 5,
     "metadata": {},
     "output_type": "execute_result"
    }
   ],
   "source": [
    "# 시료의 성공여부와 측정일자가 기록된 csv 읽어오기\n",
    "pf = pd.read_csv(r\"C:\\ITStudy\\00_git\\Self_Study_DataMining\\secom\\secom_labels.data\",sep=' ', names=['is_success', 'Date'])\n",
    "\n",
    "label_data = pd.DataFrame(pf)\n",
    "\n",
    "# 데이터 확인\n",
    "label_data.info()\n",
    "label_data.describe()\n",
    "\n",
    "# 데이터의 처음과 끝 확인\n",
    "label_data.head()\n",
    "label_data.tail()\n",
    "\n",
    "# 측정일자 데이터 날짜시간형 변환\n",
    "label_data.Date = label_data.Date.astype('datetime64[ns]')\n",
    "label_data.is_success = label_data.is_success.apply(lambda x: 'O' if x == 1 else 'X')\n",
    "\n",
    "label_data"
   ]
  },
  {
   "cell_type": "code",
   "execution_count": 6,
   "id": "8de388a5",
   "metadata": {},
   "outputs": [],
   "source": [
    "# 라벨과 메인 데이터를 합치기\n",
    "secom_data = label_data.join(main_data)"
   ]
  },
  {
   "cell_type": "code",
   "execution_count": 7,
   "id": "c54e528b",
   "metadata": {},
   "outputs": [
    {
     "data": {
      "text/plain": [
       "Timestamp('2008-10-15 02:42:00')"
      ]
     },
     "execution_count": 7,
     "metadata": {},
     "output_type": "execute_result"
    }
   ],
   "source": [
    "# 만든 데이터 프레임으로 다양한 값들 구하기\n",
    "# 마지막 성공 측정 시간\n",
    "secom_data[secom_data.is_success == 'O']['Date'].iloc[-1] # -1인덱싱을 달리하여 사이 간격 측정등 다양한 value 창출 가능"
   ]
  },
  {
   "cell_type": "code",
   "execution_count": 11,
   "id": "8c557bf1",
   "metadata": {},
   "outputs": [
    {
     "data": {
      "image/png": "[encoded data removed]",
      "text/plain": [
       "<Figure size 1000x500 with 1 Axes>"
      ]
     },
     "metadata": {},
     "output_type": "display_data"
    }
   ],
   "source": [
    "# O, X 시각화\n",
    "# 'Date' 컬럼에서 일(day)만 추출하는 새로운 컬럼 추가\n",
    "secom_data['day'] = secom_data['Date'].dt.day\n",
    "\n",
    "# 성공한 샘플만 필터링\n",
    "success_data = secom_data[secom_data['is_success'] == 'O']\n",
    "\n",
    "# 일(day)별 성공 샘플 개수 집계\n",
    "day_success_count = success_data.groupby('day').size()\n",
    "\n",
    "plt.figure(figsize=(10,5))\n",
    "plt.plot(day_success_count.index, day_success_count.values, marker='o')\n",
    "plt.xlabel('Day')\n",
    "plt.ylabel('success samples')\n",
    "plt.title('Success Samples by Day')\n",
    "plt.grid(True)\n",
    "plt.show()"
   ]
  },
  {
   "cell_type": "code",
   "execution_count": null,
   "id": "c1b920dd",
   "metadata": {},
   "outputs": [],
   "source": []
  }
 ],
 "metadata": {
  "kernelspec": {
   "display_name": "Python 3",
   "language": "python",
   "name": "python3"
  },
  "language_info": {
   "codemirror_mode": {
    "name": "ipython",
    "version": 3
   },
   "file_extension": ".py",
   "mimetype": "text/x-python",
   "name": "python",
   "nbconvert_exporter": "python",
   "pygments_lexer": "ipython3",
   "version": "3.12.10"
  }
 },
 "nbformat": 4,
 "nbformat_minor": 5
}
