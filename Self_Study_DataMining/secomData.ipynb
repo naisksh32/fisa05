{
 "cells": [
  {
   "cell_type": "code",
   "execution_count": 101,
   "id": "e6c1674a",
   "metadata": {},
   "outputs": [],
   "source": [
    "# 분석 필요 패키지 임포트\n",
    "import numpy as np      # NumPy: 배열분석\n",
    "import pandas as pd     # Pandas: 데이터 수집 및 수정\n",
    "import datetime         # 시간처리(내장 파이썬)\n",
    "import matplotlib.pyplot as plt   # 시각화 그래프"
   ]
  },
  {
   "cell_type": "code",
   "execution_count": 102,
   "id": "1a31d75c",
   "metadata": {},
   "outputs": [
    {
     "name": "stdout",
     "output_type": "stream",
     "text": [
      "<class 'pandas.core.frame.DataFrame'>\n",
      "RangeIndex: 1567 entries, 0 to 1566\n",
      "Columns: 590 entries, 0 to 589\n",
      "dtypes: float64(590)\n",
      "memory usage: 7.1 MB\n"
     ]
    }
   ],
   "source": [
    "# 실험 결과값 데이터를 불러와 데이터 프레임 형성\n",
    "pf = pd.read_csv(r\"C:\\ITStudy\\00_git\\Self_Study_DataMining\\secom\\secom.data\", sep=' ', header=None)\n",
    "\n",
    "main_data = pd.DataFrame(pf)\n",
    "\n",
    "# 데이터 확인\n",
    "main_data.info()\n",
    "main_data.describe(include='all')\n",
    "\n",
    "# 데이터의 처음과 끝 확인\n",
    "main_data.head()\n",
    "main_data.tail()\n",
    "\n",
    "# main 데이터의 결측치 처리\n",
    "main_data.replace(np.nan, 0, inplace=True)"
   ]
  },
  {
   "cell_type": "code",
   "execution_count": 105,
   "id": "b7e9d44c",
   "metadata": {},
   "outputs": [
    {
     "name": "stdout",
     "output_type": "stream",
     "text": [
      "<class 'pandas.core.frame.DataFrame'>\n",
      "RangeIndex: 1567 entries, 0 to 1566\n",
      "Data columns (total 2 columns):\n",
      " #   Column      Non-Null Count  Dtype \n",
      "---  ------      --------------  ----- \n",
      " 0   is_success  1567 non-null   int64 \n",
      " 1   Date        1567 non-null   object\n",
      "dtypes: int64(1), object(1)\n",
      "memory usage: 24.6+ KB\n"
     ]
    },
    {
     "data": {
      "text/html": [
       "<div>\n",
       "<style scoped>\n",
       "    .dataframe tbody tr th:only-of-type {\n",
       "        vertical-align: middle;\n",
       "    }\n",
       "\n",
       "    .dataframe tbody tr th {\n",
       "        vertical-align: top;\n",
       "    }\n",
       "\n",
       "    .dataframe thead th {\n",
       "        text-align: right;\n",
       "    }\n",
       "</style>\n",
       "<table border=\"1\" class=\"dataframe\">\n",
       "  <thead>\n",
       "    <tr style=\"text-align: right;\">\n",
       "      <th></th>\n",
       "      <th>is_success</th>\n",
       "      <th>Date</th>\n",
       "    </tr>\n",
       "  </thead>\n",
       "  <tbody>\n",
       "    <tr>\n",
       "      <th>0</th>\n",
       "      <td>X</td>\n",
       "      <td>2008-07-19 11:55:00</td>\n",
       "    </tr>\n",
       "    <tr>\n",
       "      <th>1</th>\n",
       "      <td>X</td>\n",
       "      <td>2008-07-19 12:32:00</td>\n",
       "    </tr>\n",
       "    <tr>\n",
       "      <th>2</th>\n",
       "      <td>O</td>\n",
       "      <td>2008-07-19 13:17:00</td>\n",
       "    </tr>\n",
       "    <tr>\n",
       "      <th>3</th>\n",
       "      <td>X</td>\n",
       "      <td>2008-07-19 14:43:00</td>\n",
       "    </tr>\n",
       "    <tr>\n",
       "      <th>4</th>\n",
       "      <td>X</td>\n",
       "      <td>2008-07-19 15:22:00</td>\n",
       "    </tr>\n",
       "    <tr>\n",
       "      <th>...</th>\n",
       "      <td>...</td>\n",
       "      <td>...</td>\n",
       "    </tr>\n",
       "    <tr>\n",
       "      <th>1562</th>\n",
       "      <td>X</td>\n",
       "      <td>2008-10-16 15:13:00</td>\n",
       "    </tr>\n",
       "    <tr>\n",
       "      <th>1563</th>\n",
       "      <td>X</td>\n",
       "      <td>2008-10-16 20:49:00</td>\n",
       "    </tr>\n",
       "    <tr>\n",
       "      <th>1564</th>\n",
       "      <td>X</td>\n",
       "      <td>2008-10-17 05:26:00</td>\n",
       "    </tr>\n",
       "    <tr>\n",
       "      <th>1565</th>\n",
       "      <td>X</td>\n",
       "      <td>2008-10-17 06:01:00</td>\n",
       "    </tr>\n",
       "    <tr>\n",
       "      <th>1566</th>\n",
       "      <td>X</td>\n",
       "      <td>2008-10-17 06:07:00</td>\n",
       "    </tr>\n",
       "  </tbody>\n",
       "</table>\n",
       "<p>1567 rows × 2 columns</p>\n",
       "</div>"
      ],
      "text/plain": [
       "     is_success                Date\n",
       "0             X 2008-07-19 11:55:00\n",
       "1             X 2008-07-19 12:32:00\n",
       "2             O 2008-07-19 13:17:00\n",
       "3             X 2008-07-19 14:43:00\n",
       "4             X 2008-07-19 15:22:00\n",
       "...         ...                 ...\n",
       "1562          X 2008-10-16 15:13:00\n",
       "1563          X 2008-10-16 20:49:00\n",
       "1564          X 2008-10-17 05:26:00\n",
       "1565          X 2008-10-17 06:01:00\n",
       "1566          X 2008-10-17 06:07:00\n",
       "\n",
       "[1567 rows x 2 columns]"
      ]
     },
     "execution_count": 105,
     "metadata": {},
     "output_type": "execute_result"
    }
   ],
   "source": [
    "# 시료의 성공여부와 측정일자가 기록된 csv 읽어오기\n",
    "pf = pd.read_csv(r\"C:\\ITStudy\\00_git\\Self_Study_DataMining\\secom\\secom_labels.data\",sep=' ', names=['is_success', 'Date'])\n",
    "\n",
    "label_data = pd.DataFrame(pf)\n",
    "\n",
    "# 데이터 확인\n",
    "label_data.info()\n",
    "label_data.describe()\n",
    "\n",
    "# 데이터의 처음과 끝 확인\n",
    "label_data.head()\n",
    "label_data.tail()\n",
    "\n",
    "# 측정일자 데이터 날짜시간형 변환\n",
    "label_data.Date = label_data.Date.astype('datetime64[ns]')\n",
    "label_data.is_success = label_data.is_success.apply(lambda x: 'O' if x == 1 else 'X')\n",
    "\n",
    "label_data"
   ]
  },
  {
   "cell_type": "code",
   "execution_count": 106,
   "id": "8de388a5",
   "metadata": {},
   "outputs": [],
   "source": [
    "# 라벨과 메인 데이터를 합치기\n",
    "secom_data = label_data.join(main_data)"
   ]
  },
  {
   "cell_type": "code",
   "execution_count": 108,
   "id": "c54e528b",
   "metadata": {},
   "outputs": [
    {
     "data": {
      "text/plain": [
       "<Axes: xlabel='is_success'>"
      ]
     },
     "execution_count": 108,
     "metadata": {},
     "output_type": "execute_result"
    },
    {
     "data": {
      "image/png": "[encoded data removed]",
      "text/plain": [
       "<Figure size 640x480 with 1 Axes>"
      ]
     },
     "metadata": {},
     "output_type": "display_data"
    }
   ],
   "source": [
    "# 만든 데이터 프레임으로 다양한 값들 구하기\n",
    "# 마지막 성공 측정 시간\n",
    "secom_data[secom_data.is_success == 'O']['Date'].iloc[-1] # -1인덱싱을 달리하여 사이 간격 측정등 다양한 value 창출 가능\n",
    "\n",
    "# O, X 시각화\n",
    "secom_data['is_success'].value_counts().plot(kind='bar')"
   ]
  },
  {
   "cell_type": "code",
   "execution_count": null,
   "id": "8c557bf1",
   "metadata": {},
   "outputs": [],
   "source": []
  }
 ],
 "metadata": {
  "kernelspec": {
   "display_name": "Python 3",
   "language": "python",
   "name": "python3"
  },
  "language_info": {
   "codemirror_mode": {
    "name": "ipython",
    "version": 3
   },
   "file_extension": ".py",
   "mimetype": "text/x-python",
   "name": "python",
   "nbconvert_exporter": "python",
   "pygments_lexer": "ipython3",
   "version": "3.12.10"
  }
 },
 "nbformat": 4,
 "nbformat_minor": 5
}
